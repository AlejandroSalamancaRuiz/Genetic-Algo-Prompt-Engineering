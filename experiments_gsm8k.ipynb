{
 "cells": [
  {
   "cell_type": "code",
   "execution_count": null,
   "metadata": {},
   "outputs": [],
   "source": [
    "from src.llm import LLM\n",
    "from src.genetic_algorithm import GeneticAlgorithm\n",
    "from src.experiment_conditions import Experiment_conditions\n",
    "from src.dataset import Dataset\n",
    "from src.utils import load_prompts"
   ]
  },
  {
   "cell_type": "markdown",
   "metadata": {},
   "source": [
    "## GSM8K Prompts"
   ]
  },
  {
   "cell_type": "markdown",
   "metadata": {},
   "source": [
    "### Load prompts for experimentation"
   ]
  },
  {
   "cell_type": "code",
   "execution_count": null,
   "metadata": {},
   "outputs": [],
   "source": [
    "sys_prompts = load_prompts('gsm8k_prompts/system_prompts.txt')\n",
    "\n",
    "instructions = load_prompts('gsm8k_prompts/instructions.txt')\n",
    "\n",
    "mutations = load_prompts('gsm8k_prompts/system_prompts.txt')"
   ]
  },
  {
   "cell_type": "markdown",
   "metadata": {},
   "source": [
    "### Perform experiment"
   ]
  },
  {
   "cell_type": "code",
   "execution_count": null,
   "metadata": {},
   "outputs": [],
   "source": [
    "# Initialize the dataset with the name 'gsm8k'\n",
    "dataset = Dataset(name='gsm8k')\n",
    "\n",
    "# Initialize the language model with the specified provider, model, and API key\n",
    "llm = LLM(provider='openai', model='gpt-3.5-turbo', api_key='API KEY')\n",
    "\n",
    "# Set the number of individuals per generation\n",
    "individuals_per_gen = 20\n",
    "\n",
    "# Set the number of generations\n",
    "generations = 50\n",
    "\n",
    "# Set the maximum number of examples\n",
    "max_num_examples = 9\n",
    "\n",
    "# Initialize the experiment conditions with the dataset, mutations, system prompts, instructions, language model, and max number of examples\n",
    "experiment_conditions = Experiment_conditions(dataset, mutations, sys_prompts, instructions, llm, max_num_examples)\n",
    "\n",
    "# Initialize the genetic algorithm with the experiment conditions, number of individuals per generation, and number of generations\n",
    "genetic_algo = GeneticAlgorithm(experiment_conditions, individuals_per_gen, generations)\n",
    "\n",
    "# Initialize the population for the genetic algorithm\n",
    "genetic_algo.init_population()\n",
    "\n",
    "# Run the genetic algorithm\n",
    "genetic_algo.run_algorithm()\n",
    "\n",
    "# Save the results of the experiment\n",
    "genetic_algo.save_experiment()"
   ]
  },
  {
   "cell_type": "code",
   "execution_count": null,
   "metadata": {},
   "outputs": [],
   "source": []
  }
 ],
 "metadata": {
  "kernelspec": {
   "display_name": "Python 3",
   "language": "python",
   "name": "python3"
  },
  "language_info": {
   "codemirror_mode": {
    "name": "ipython",
    "version": 3
   },
   "file_extension": ".py",
   "mimetype": "text/x-python",
   "name": "python",
   "nbconvert_exporter": "python",
   "pygments_lexer": "ipython3",
   "version": "3.10.12"
  }
 },
 "nbformat": 4,
 "nbformat_minor": 2
}
