{
 "cells": [
  {
   "cell_type": "markdown",
   "metadata": {},
   "source": [
    "# Results Analysis Example"
   ]
  },
  {
   "cell_type": "code",
   "execution_count": null,
   "metadata": {},
   "outputs": [],
   "source": [
    "import pickle\n",
    "from src.utils import plot_gene_frequency, plot_fitness_per_generation, plot_gene_frequency_per_gen, best_prompts, experimental_setup, best_prompts_per_model\n",
    "from src.llm import LLM\n",
    "from src.dataset import Dataset\n",
    "from src.prompt import Prompt\n",
    "import numpy as np"
   ]
  },
  {
   "cell_type": "code",
   "execution_count": null,
   "metadata": {},
   "outputs": [],
   "source": [
    "## RESULT FILES\n",
    "\n",
    "result_gpt = 'Results/gpt-3.5-turbo--gsm8k/'\n",
    "result_llama_10_gen = 'Results/llama-v2-70b-chat--gsm8k--1/' \n",
    "result_llama_50_gen = 'Results/llama-v2-70b-chat--gsm8k--2/'\n",
    "result_mistral_50_gen = 'Results/mistral-7b-instruct-4k--gsm8k--1/'\n",
    "result_mistral_50_gen_2 = 'Results/mistral-7b-instruct-4k--gsm8k--2/'"
   ]
  },
  {
   "cell_type": "code",
   "execution_count": null,
   "metadata": {},
   "outputs": [],
   "source": [
    "## Pick result to analyze\n",
    "selected_result = result_gpt"
   ]
  },
  {
   "cell_type": "code",
   "execution_count": null,
   "metadata": {},
   "outputs": [],
   "source": [
    "# Open the results file and load the data using pickle\n",
    "results_file = open(selected_result + 'ga_run.pkl', 'rb')    \n",
    "results = pickle.load(results_file)\n",
    "\n",
    "# Open the experimental conditions file and load the data using pickle\n",
    "exp_cond_file = open(selected_result + 'exp_conditions.pkl', 'rb')\n",
    "exp_cond = pickle.load(exp_cond_file)"
   ]
  },
  {
   "cell_type": "code",
   "execution_count": null,
   "metadata": {},
   "outputs": [],
   "source": [
    "## Plot fitness per generation\n",
    "plot_fitness_per_generation(results)"
   ]
  },
  {
   "cell_type": "code",
   "execution_count": null,
   "metadata": {},
   "outputs": [],
   "source": [
    "## Plot overall gene frequency \n",
    "plot_gene_frequency(results, 0.0)"
   ]
  },
  {
   "cell_type": "code",
   "execution_count": null,
   "metadata": {},
   "outputs": [],
   "source": [
    "# Plot gene frequency in a specific generation\n",
    "specific_gen = 36\n",
    "plot_gene_frequency_per_gen(results, specific_gen)"
   ]
  },
  {
   "cell_type": "code",
   "execution_count": null,
   "metadata": {},
   "outputs": [],
   "source": [
    "# Get the best prompts above a certain cutoff\n",
    "cutoff_value = 0.95\n",
    "best_prompts(results, exp_cond, cutoff=cutoff_value)"
   ]
  },
  {
   "cell_type": "code",
   "execution_count": null,
   "metadata": {},
   "outputs": [],
   "source": [
    "# Save best prompts to a file\n",
    "best_prompts_per_model(results, exp_cond, 0.95)"
   ]
  }
 ],
 "metadata": {
  "kernelspec": {
   "display_name": "Python 3 (ipykernel)",
   "language": "python",
   "name": "python3"
  },
  "language_info": {
   "codemirror_mode": {
    "name": "ipython",
    "version": 3
   },
   "file_extension": ".py",
   "mimetype": "text/x-python",
   "name": "python",
   "nbconvert_exporter": "python",
   "pygments_lexer": "ipython3",
   "version": "3.10.12"
  }
 },
 "nbformat": 4,
 "nbformat_minor": 2
}
